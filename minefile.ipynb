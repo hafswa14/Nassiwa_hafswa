{
 "cells": [
  {
   "cell_type": "code",
   "execution_count": 6,
   "metadata": {},
   "outputs": [
    {
     "name": "stdout",
     "output_type": "stream",
     "text": [
      "Duration    0\n",
      "Date        2\n",
      "Pulse       1\n",
      "Maxpulse    2\n",
      "Calories    4\n",
      "dtype: int64\n",
      "    Duration         Date       Pulse    Maxpulse    Calories\n",
      "0         60  2023/10/01'  110.000000  130.000000  409.100000\n",
      "1         60  2023/10/02'  117.000000  145.000000  479.000000\n",
      "2         60  2023/10/03'  103.000000  135.000000  340.300000\n",
      "3         45  2023/10/04'  109.000000  175.000000  282.400000\n",
      "4         45  2023/10/05'  117.000000  150.000000  405.100000\n",
      "5         60  2023/10/06'  103.000000  125.000000  300.000000\n",
      "6         60  2023/10/07'  110.000000  135.000000  374.000000\n",
      "7        400  2023/10/08'  114.000000  133.000000  302.859259\n",
      "8         60  2023/10/09'  112.000000  126.000000  193.800000\n",
      "9         30  2023/10/10'  102.000000  147.000000  234.800000\n",
      "10        60  2023/10/11'  100.000000  129.000000  375.300000\n",
      "11        60  2023/10/12'  109.000000  131.000000  345.600000\n",
      "12        60  2023/10/13'  103.000000  136.000000  239.200000\n",
      "13        60  2023/10/15'  120.000000  123.241379  240.800000\n",
      "14        60  2023/10/15'  120.000000  100.000000  240.800000\n",
      "15        60  2023/10/16'  118.833333  101.000000  243.800000\n",
      "16        60  2023/10/17'  127.000000  102.000000  380.200000\n",
      "17        45     20231018  142.000000  103.000000  241.400000\n",
      "18        60  2023/10/19'  151.000000  104.000000  302.859259\n",
      "19        60  2023/10/20'  162.000000  105.000000  300.900000\n",
      "20        60  2023/10/21'  100.000000  106.000000  280.000000\n",
      "21        60  2023/10/22'  103.000000  107.000000  302.859259\n",
      "22        60          NaN  130.000000  108.000000  230.800000\n",
      "23        60  2023/10/24'  134.000000  123.241379  239.700000\n",
      "24        60  2023/10/25'  132.000000  110.000000  236.900000\n",
      "25        60  2023/10/26'  135.000000  118.000000  278.800000\n",
      "26        60  2023/10/27'  137.000000  119.000000  212.900000\n",
      "27        60  2023/10/28'  138.000000  121.000000  345.900000\n",
      "28        60  2023/10/29'  139.000000  122.000000  345.200000\n",
      "29        60          NaN   92.000000  125.000000  380.500000\n",
      "30        60  2023/10/31'   94.000000  126.000000  302.859259\n",
      "Duration    0\n",
      "Date        2\n",
      "Pulse       0\n",
      "Maxpulse    0\n",
      "Calories    0\n",
      "dtype: int64\n"
     ]
    },
    {
     "name": "stderr",
     "output_type": "stream",
     "text": [
      "C:\\Users\\Administrator\\AppData\\Local\\Temp\\ipykernel_11824\\1441399984.py:14: FutureWarning: A value is trying to be set on a copy of a DataFrame or Series through chained assignment using an inplace method.\n",
      "The behavior will change in pandas 3.0. This inplace method will never work because the intermediate object on which we are setting values always behaves as a copy.\n",
      "\n",
      "For example, when doing 'df[col].method(value, inplace=True)', try using 'df.method({col: value}, inplace=True)' or df[col] = df[col].method(value) instead, to perform the operation inplace on the original object.\n",
      "\n",
      "\n",
      "  df[col].fillna(df[col].mean(),inplace=True)\n"
     ]
    }
   ],
   "source": [
    "#Missing values / Empty cells\n",
    "import pandas as pd\n",
    "\n",
    "df = pd.read_csv('mine.csv')\n",
    "#new_df = df.dropna()\n",
    "\n",
    "#check for empty cells\n",
    "print(df.isnull().sum())\n",
    "\n",
    "#x = df['Calories'].mean()\n",
    "#df.fillna({\"Calories\": x}, inplace=True) \n",
    "\n",
    "for col in ['Duration','Pulse','Maxpulse','Calories']:\n",
    "    df[col].fillna(df[col].mean(),inplace=True) \n",
    "print(df) \n",
    "\n",
    "print(df.isnull().sum())\n"
   ]
  },
  {
   "cell_type": "code",
   "execution_count": 5,
   "metadata": {},
   "outputs": [
    {
     "name": "stdout",
     "output_type": "stream",
     "text": [
      "    Duration       Date  Pulse  Maxpulse  Calories\n",
      "0         60 2023-10-01  110.0     130.0     409.1\n",
      "1         60 2023-10-02  117.0     145.0     479.0\n",
      "2         60 2023-10-03  103.0     135.0     340.3\n",
      "3         45 2023-10-04  109.0     175.0     282.4\n",
      "4         45 2023-10-05  117.0     150.0     405.1\n",
      "5         60 2023-10-06  103.0     125.0     300.0\n",
      "6         60 2023-10-07  110.0     135.0     374.0\n",
      "7        400 2023-10-08  114.0     133.0       NaN\n",
      "8         60 2023-10-09  112.0     126.0     193.8\n",
      "9         30 2023-10-10  102.0     147.0     234.8\n",
      "10        60 2023-10-11  100.0     129.0     375.3\n",
      "11        60 2023-10-12  109.0     131.0     345.6\n",
      "12        60 2023-10-13  103.0     136.0     239.2\n",
      "13        60 2023-10-15  120.0       NaN     240.8\n",
      "14        60 2023-10-15  120.0     100.0     240.8\n",
      "15        60 2023-10-16    NaN     101.0     243.8\n",
      "16        60 2023-10-17  127.0     102.0     380.2\n",
      "17        45 2023-10-18  142.0     103.0     241.4\n",
      "18        60 2023-10-19  151.0     104.0       NaN\n",
      "19        60 2023-10-20  162.0     105.0     300.9\n",
      "20        60 2023-10-21  100.0     106.0     280.0\n",
      "21        60 2023-10-22  103.0     107.0       NaN\n",
      "22        60        NaT  130.0     108.0     230.8\n",
      "23        60 2023-10-24  134.0       NaN     239.7\n",
      "24        60 2023-10-25  132.0     110.0     236.9\n",
      "25        60 2023-10-26  135.0     118.0     278.8\n",
      "26        60 2023-10-27  137.0     119.0     212.9\n",
      "27        60 2023-10-28  138.0     121.0     345.9\n",
      "28        60 2023-10-29  139.0     122.0     345.2\n",
      "29        60        NaT   92.0     125.0     380.5\n",
      "30        60 2023-10-31   94.0     126.0       NaN\n"
     ]
    }
   ],
   "source": [
    "#Inconsistent data formats\n",
    "\n",
    "df = pd.read_csv('mine.csv')\n",
    "\n",
    "df['Date'] = pd.to_datetime(df['Date'], format='mixed')\n",
    "\n",
    "print(df.to_string())"
   ]
  },
  {
   "cell_type": "code",
   "execution_count": 6,
   "metadata": {},
   "outputs": [
    {
     "name": "stdout",
     "output_type": "stream",
     "text": [
      "0     False\n",
      "1     False\n",
      "2     False\n",
      "3     False\n",
      "4     False\n",
      "5     False\n",
      "6     False\n",
      "7     False\n",
      "8     False\n",
      "9     False\n",
      "10    False\n",
      "11    False\n",
      "12    False\n",
      "13    False\n",
      "14    False\n",
      "15    False\n",
      "16    False\n",
      "17    False\n",
      "18    False\n",
      "19    False\n",
      "20    False\n",
      "21    False\n",
      "22    False\n",
      "23    False\n",
      "24    False\n",
      "25    False\n",
      "26    False\n",
      "27    False\n",
      "28    False\n",
      "29    False\n",
      "30    False\n",
      "dtype: bool\n"
     ]
    }
   ],
   "source": [
    "#Duplicate rows\n",
    "\n",
    "#checks for duplicate rows\n",
    "print(df.duplicated())\n",
    "\n",
    "#removes duplicate dfs\n",
    "#df.drop_duplicates(inplace = True)\n"
   ]
  },
  {
   "cell_type": "code",
   "execution_count": 2,
   "metadata": {},
   "outputs": [
    {
     "name": "stdout",
     "output_type": "stream",
     "text": [
      "    Duration         Date  Pulse  Maxpulse  Calories\n",
      "0         60  2023/10/01'  110.0     130.0     409.1\n",
      "1         60  2023/10/02'  117.0     145.0     479.0\n",
      "2         60  2023/10/03'  103.0     135.0     340.3\n",
      "3         45  2023/10/04'  109.0     175.0     282.4\n",
      "4         45  2023/10/05'  117.0     150.0     405.1\n",
      "5         60  2023/10/06'  103.0     125.0     300.0\n",
      "6         60  2023/10/07'  110.0     135.0     374.0\n",
      "8         60  2023/10/09'  112.0     126.0     193.8\n",
      "9         30  2023/10/10'  102.0     147.0     234.8\n",
      "10        60  2023/10/11'  100.0     129.0     375.3\n",
      "11        60  2023/10/12'  109.0     131.0     345.6\n",
      "12        60  2023/10/13'  103.0     136.0     239.2\n",
      "13        60  2023/10/15'  120.0       NaN     240.8\n",
      "14        60  2023/10/15'  120.0     100.0     240.8\n",
      "15        60  2023/10/16'    NaN     101.0     243.8\n",
      "16        60  2023/10/17'  127.0     102.0     380.2\n",
      "17        45     20231018  142.0     103.0     241.4\n",
      "18        60  2023/10/19'  151.0     104.0       NaN\n",
      "19        60  2023/10/20'  162.0     105.0     300.9\n",
      "20        60  2023/10/21'  100.0     106.0     280.0\n",
      "21        60  2023/10/22'  103.0     107.0       NaN\n",
      "22        60          NaN  130.0     108.0     230.8\n",
      "23        60  2023/10/24'  134.0       NaN     239.7\n",
      "24        60  2023/10/25'  132.0     110.0     236.9\n",
      "25        60  2023/10/26'  135.0     118.0     278.8\n",
      "26        60  2023/10/27'  137.0     119.0     212.9\n",
      "27        60  2023/10/28'  138.0     121.0     345.9\n",
      "28        60  2023/10/29'  139.0     122.0     345.2\n",
      "29        60          NaN   92.0     125.0     380.5\n",
      "30        60  2023/10/31'   94.0     126.0       NaN\n"
     ]
    }
   ],
   "source": [
    "#wrong data\n",
    "#reset duration or\n",
    "\n",
    "#remove row from df\n",
    "for x in df.index:\n",
    "  if df.loc[x, \"Duration\"] > 60:\n",
    "    df.drop(x, inplace = True)\n",
    "print(df.to_string())    \n",
    "\n"
   ]
  },
  {
   "cell_type": "code",
   "execution_count": 5,
   "metadata": {},
   "outputs": [
    {
     "name": "stdout",
     "output_type": "stream",
     "text": [
      "    Duration  Pulse  Maxpulse  Calories\n",
      "0         60  110.0     130.0     409.1\n",
      "1         60  117.0     145.0     479.0\n",
      "2         60  103.0     135.0     340.3\n",
      "3         45  109.0     175.0     282.4\n",
      "4         45  117.0     150.0     405.1\n",
      "5         60  103.0     125.0     300.0\n",
      "6         60  110.0     135.0     374.0\n",
      "8         60  112.0     126.0     193.8\n",
      "9         30  102.0     147.0     234.8\n",
      "10        60  100.0     129.0     375.3\n",
      "11        60  109.0     131.0     345.6\n",
      "12        60  103.0     136.0     239.2\n",
      "13        60  120.0       NaN     240.8\n",
      "14        60  120.0     100.0     240.8\n",
      "15        60    NaN     101.0     243.8\n",
      "16        60  127.0     102.0     380.2\n",
      "17        45  142.0     103.0     241.4\n",
      "18        60  151.0     104.0       NaN\n",
      "19        60  162.0     105.0     300.9\n",
      "20        60  100.0     106.0     280.0\n",
      "21        60  103.0     107.0       NaN\n",
      "22        60  130.0     108.0     230.8\n",
      "23        60  134.0       NaN     239.7\n",
      "24        60  132.0     110.0     236.9\n",
      "25        60  135.0     118.0     278.8\n",
      "26        60  137.0     119.0     212.9\n",
      "27        60  138.0     121.0     345.9\n",
      "28        60  139.0     122.0     345.2\n",
      "29        60   92.0     125.0     380.5\n",
      "30        60   94.0     126.0       NaN\n"
     ]
    }
   ],
   "source": [
    "#Unnecessary columns not relevant to analysis\n",
    "columns_to_drop = ['Date']\n",
    "new_df = df.drop(columns= columns_to_drop)\n",
    "print(new_df.to_string())\n",
    "\n"
   ]
  }
 ],
 "metadata": {
  "kernelspec": {
   "display_name": "base",
   "language": "python",
   "name": "python3"
  },
  "language_info": {
   "codemirror_mode": {
    "name": "ipython",
    "version": 3
   },
   "file_extension": ".py",
   "mimetype": "text/x-python",
   "name": "python",
   "nbconvert_exporter": "python",
   "pygments_lexer": "ipython3",
   "version": "3.12.7"
  }
 },
 "nbformat": 4,
 "nbformat_minor": 2
}
