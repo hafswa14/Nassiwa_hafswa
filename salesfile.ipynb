{
 "cells": [
  {
   "cell_type": "code",
   "execution_count": 4,
   "metadata": {},
   "outputs": [
    {
     "name": "stdout",
     "output_type": "stream",
     "text": [
      "Order ID         0\n",
      "Customer Name    1\n",
      "Order Date       0\n",
      "Product          0\n",
      "Quantity         1\n",
      "Unit Price       1\n",
      "Total Revenue    1\n",
      "dtype: int64\n",
      "   Order ID  Customer Name   Order Date   Product   Quantity  Unit Price  \\\n",
      "0      1001       John Doe   01/01/2024  Widget A  10.000000   25.000000   \n",
      "1      1002     Jane Smith   01/02/2024  Widget B   5.000000   40.000000   \n",
      "2      1003            NaN  2024/01/03'  Widget A   5.142857   25.000000   \n",
      "3      1004  Alice Johnson   04/01/2024  Widget C   3.000000   35.714286   \n",
      "4      1005      Bob Brown  2024/01/05'  Widget B  10.000000   40.000000   \n",
      "5      1006       John Doe   06/01/2024  Widget A   4.000000   25.000000   \n",
      "6      1001       John Doe   01/01/2024  Widget A  10.000000   25.000000   \n",
      "7      1007     Jane Smith   07/01/2024  Widget C  -6.000000   70.000000   \n",
      "\n",
      "   Total Revenue  \n",
      "0     250.000000  \n",
      "1     200.000000  \n",
      "2     141.428571  \n",
      "3     210.000000  \n",
      "4     400.000000  \n",
      "5     100.000000  \n",
      "6     250.000000  \n",
      "7    -420.000000  \n",
      "Order ID         0\n",
      "Customer Name    1\n",
      "Order Date       0\n",
      "Product          0\n",
      "Quantity         0\n",
      "Unit Price       0\n",
      "Total Revenue    0\n",
      "dtype: int64\n"
     ]
    },
    {
     "name": "stderr",
     "output_type": "stream",
     "text": [
      "C:\\Users\\Administrator\\AppData\\Local\\Temp\\ipykernel_12740\\3886750525.py:10: FutureWarning: A value is trying to be set on a copy of a DataFrame or Series through chained assignment using an inplace method.\n",
      "The behavior will change in pandas 3.0. This inplace method will never work because the intermediate object on which we are setting values always behaves as a copy.\n",
      "\n",
      "For example, when doing 'df[col].method(value, inplace=True)', try using 'df.method({col: value}, inplace=True)' or df[col] = df[col].method(value) instead, to perform the operation inplace on the original object.\n",
      "\n",
      "\n",
      "  df[col].fillna(df[col].mean(),inplace=True)\n"
     ]
    }
   ],
   "source": [
    "#Missing values / Empty cells\n",
    "import pandas as pd\n",
    "\n",
    "df = pd.read_csv('sales.csv')\n",
    "\n",
    "#check for empty cells\n",
    "print(df.isnull().sum())\n",
    "\n",
    "for col in ['Quantity','Unit Price','Total Revenue']:\n",
    "    df[col].fillna(df[col].mean(),inplace=True) \n",
    "print(df) \n",
    "\n",
    "print(df.isnull().sum())\n"
   ]
  },
  {
   "cell_type": "code",
   "execution_count": 5,
   "metadata": {},
   "outputs": [
    {
     "name": "stdout",
     "output_type": "stream",
     "text": [
      "   Order ID  Customer Name Order Date   Product  Quantity  Unit Price  Total Revenue\n",
      "0      1001       John Doe 2024-01-01  Widget A      10.0        25.0          250.0\n",
      "1      1002     Jane Smith 2024-01-02  Widget B       5.0        40.0          200.0\n",
      "2      1003            NaN 2024-01-03  Widget A       NaN        25.0            NaN\n",
      "3      1004  Alice Johnson 2024-04-01  Widget C       3.0         NaN          210.0\n",
      "4      1005      Bob Brown 2024-01-05  Widget B      10.0        40.0          400.0\n",
      "5      1006       John Doe 2024-06-01  Widget A       4.0        25.0          100.0\n",
      "6      1001       John Doe 2024-01-01  Widget A      10.0        25.0          250.0\n",
      "7      1007     Jane Smith 2024-07-01  Widget C      -6.0        70.0         -420.0\n"
     ]
    }
   ],
   "source": [
    "#Inconsistent data formats\n",
    "\n",
    "df = pd.read_csv('sales.csv')\n",
    "\n",
    "df['Order Date'] = pd.to_datetime(df['Order Date'], format='mixed')\n",
    "\n",
    "print(df.to_string())"
   ]
  },
  {
   "cell_type": "code",
   "execution_count": 8,
   "metadata": {},
   "outputs": [
    {
     "name": "stdout",
     "output_type": "stream",
     "text": [
      "0    False\n",
      "1    False\n",
      "2    False\n",
      "3    False\n",
      "4    False\n",
      "5    False\n",
      "7    False\n",
      "dtype: bool\n"
     ]
    }
   ],
   "source": [
    "#Duplicate rows\n",
    "\n",
    "#checks for duplicate rows\n",
    "print(df.duplicated())\n",
    "\n",
    "#removes duplicate dfs\n",
    "df.drop_duplicates(inplace = True)"
   ]
  },
  {
   "cell_type": "code",
   "execution_count": 9,
   "metadata": {},
   "outputs": [
    {
     "name": "stdout",
     "output_type": "stream",
     "text": [
      "   Order ID  Customer Name Order Date   Product  Quantity  Unit Price  Total Revenue\n",
      "0      1001       John Doe 2024-01-01  Widget A      10.0        25.0          250.0\n",
      "1      1002     Jane Smith 2024-01-02  Widget B       5.0        40.0          200.0\n",
      "2      1003            NaN 2024-01-03  Widget A       NaN        25.0            NaN\n",
      "3      1004  Alice Johnson 2024-04-01  Widget C       3.0         NaN          210.0\n",
      "4      1005      Bob Brown 2024-01-05  Widget B      10.0        40.0          400.0\n",
      "5      1006       John Doe 2024-06-01  Widget A       4.0        25.0          100.0\n",
      "7      1007     Jane Smith 2024-07-01  Widget C       6.0        70.0          420.0\n"
     ]
    }
   ],
   "source": [
    "#wrong data\n",
    "#reset duration or\n",
    "df.loc[7, 'Quantity'] = 6.0\n",
    "\n",
    "df.loc[7, 'Total Revenue'] = 420.0\n",
    "\n",
    "#remove row from df\n",
    "'''for x in df.index:\n",
    "  if df.loc[x, \"Duration\"] > 60:\n",
    "    df.drop(x, inplace = True)'''\n",
    "\n",
    "print(df.to_string())"
   ]
  },
  {
   "cell_type": "code",
   "execution_count": 11,
   "metadata": {},
   "outputs": [
    {
     "name": "stdout",
     "output_type": "stream",
     "text": [
      "   Order ID  Customer Name   Product  Quantity  Unit Price\n",
      "0      1001       John Doe  Widget A      10.0        25.0\n",
      "1      1002     Jane Smith  Widget B       5.0        40.0\n",
      "2      1003            NaN  Widget A       NaN        25.0\n",
      "3      1004  Alice Johnson  Widget C       3.0         NaN\n",
      "4      1005      Bob Brown  Widget B      10.0        40.0\n",
      "5      1006       John Doe  Widget A       4.0        25.0\n",
      "7      1007     Jane Smith  Widget C       6.0        70.0\n"
     ]
    }
   ],
   "source": [
    "#Unnecessary columns not relevant to analysis\n",
    "columns_to_drop = ['Order Date','Total Revenue']\n",
    "new_df = df.drop(columns= columns_to_drop)\n",
    "print(new_df.to_string())"
   ]
  }
 ],
 "metadata": {
  "kernelspec": {
   "display_name": "base",
   "language": "python",
   "name": "python3"
  },
  "language_info": {
   "codemirror_mode": {
    "name": "ipython",
    "version": 3
   },
   "file_extension": ".py",
   "mimetype": "text/x-python",
   "name": "python",
   "nbconvert_exporter": "python",
   "pygments_lexer": "ipython3",
   "version": "3.12.7"
  }
 },
 "nbformat": 4,
 "nbformat_minor": 2
}
